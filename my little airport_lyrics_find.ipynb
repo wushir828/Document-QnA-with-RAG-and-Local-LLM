{
 "cells": [
  {
   "cell_type": "code",
   "execution_count": 6,
   "id": "52f728a7-192c-4865-99b1-c16319216204",
   "metadata": {
    "scrolled": true
   },
   "outputs": [
    {
     "name": "stdout",
     "output_type": "stream",
     "text": [
      "My Little Airport歌词问答链条组装完成！可以开始提问了。\n",
      "AI的回答: 根据您提供的资料，我可以回答这个问题。悲傷的採購（\"The Melancholic Shopping\"）的一部分歌词如下：\n",
      "\n",
      "“订了一季，又到下季。\n",
      "為何人大了就要成為工作的奴隸，最愛作的不可發揮。\n",
      "我的感覺，逐漸流逝。\n",
      "從前曾話過要如何欣賞世界的美麗，現在只懂得放假去消費。如果繼續這樣，我還是我嗎？我還喜歡我嗎？\n",
      "或者我應該死去吧，總好過變得更差。如果繼續這樣，你還願意嗎？\n",
      "和我奏著結他？日子不應該這樣吧，而現實就是這樣可怕。如果繼續這樣……”\n"
     ]
    }
   ],
   "source": [
    "from langchain_community.embeddings import HuggingFaceEmbeddings\n",
    "from langchain_community.chat_models import ChatOllama\n",
    "from langchain.vectorstores import FAISS\n",
    "from langchain.text_splitter import RecursiveCharacterTextSplitter\n",
    "from langchain.text_splitter import CharacterTextSplitter\n",
    "from langchain_community.document_loaders import TextLoader\n",
    "from langchain.chains.combine_documents import create_stuff_documents_chain\n",
    "from langchain_core.prompts import ChatPromptTemplate\n",
    "from langchain.chains import create_retrieval_chain\n",
    "# 从文件加载txt文件\n",
    "loader = TextLoader('mla.txt', encoding='utf-8')\n",
    "documents = loader.load()\n",
    "\n",
    "# 切分txt文档\n",
    "text_splitter = CharacterTextSplitter(\n",
    "    separator=\"###\", \n",
    "    chunk_size=2000, # 因为是按整首歌来切，所以可以把块的大小设置得大一些\n",
    "    chunk_overlap=100,\n",
    "    length_function=len,\n",
    "    is_separator_regex=False,\n",
    ")\n",
    "split_documents = text_splitter.split_documents(documents)\n",
    "\n",
    "\n",
    "# 创建嵌入模型\n",
    "# 自动从网上下载一个开源的嵌入模型到电脑上\n",
    "embeddings = HuggingFaceEmbeddings(model_name='sentence-transformers/all-MiniLM-L6-v2')\n",
    "\n",
    "# 步骤四：创建LLM\n",
    "llm = ChatOllama(model='llama3.1:8b') \n",
    "# 步骤五：创建向量数据库\n",
    "vector_store = FAISS.from_documents(split_documents, embeddings)\n",
    "#print(\"向量数据库创建成功！\")\n",
    "\n",
    "# 创建检索器\n",
    "retriever = vector_store.as_retriever()\n",
    "\n",
    "# 创建提示模板\n",
    "prompt = ChatPromptTemplate.from_template(\"\"\"\n",
    "请只根据下面提供的上下文来回答用户的问题。如果上下文中没有相关信息，就回答“根据您提供的资料，我无法回答这个问题”。\n",
    "\n",
    "<context>\n",
    "{context}\n",
    "</context>\n",
    "\n",
    "问题: {input}\n",
    "\"\"\")\n",
    "\n",
    "# 创建并组装链条\n",
    "document_chain = create_stuff_documents_chain(llm, prompt)\n",
    "retrieval_chain = create_retrieval_chain(retriever, document_chain)\n",
    "\n",
    "print(\"My Little Airport歌词问答链条组装完成！可以开始提问了。\")\n",
    "\n",
    "\n",
    "# 开始提问\n",
    "# 替换成你想问的、和mla.txt 文件内容相关的问题\n",
    "response = retrieval_chain.invoke({\"input\": \"请问悲傷的採購的歌词是什么？\"})\n",
    "print(\"AI的回答:\", response[\"answer\"])"
   ]
  },
  {
   "cell_type": "code",
   "execution_count": null,
   "id": "a2731683-a0c1-4f90-9855-125de3a570fa",
   "metadata": {},
   "outputs": [],
   "source": []
  },
  {
   "cell_type": "code",
   "execution_count": null,
   "id": "bffcd4f9-9f35-4371-b08f-f3f9292ec136",
   "metadata": {},
   "outputs": [],
   "source": []
  }
 ],
 "metadata": {
  "kernelspec": {
   "display_name": "Python [conda env:base] *",
   "language": "python",
   "name": "conda-base-py"
  },
  "language_info": {
   "codemirror_mode": {
    "name": "ipython",
    "version": 3
   },
   "file_extension": ".py",
   "mimetype": "text/x-python",
   "name": "python",
   "nbconvert_exporter": "python",
   "pygments_lexer": "ipython3",
   "version": "3.13.5"
  }
 },
 "nbformat": 4,
 "nbformat_minor": 5
}
